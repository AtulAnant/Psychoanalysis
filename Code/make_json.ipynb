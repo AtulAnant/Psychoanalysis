{
 "cells": [
  {
   "cell_type": "code",
   "execution_count": 16,
   "id": "b98a089c-502a-4c5f-9381-2542e833b1d2",
   "metadata": {},
   "outputs": [],
   "source": [
    "{\n",
    "  \"questions\": {\n",
    "    \"1\": \"In dealing with an important problem that makes the anxious, the subject prefers to focus on minor or unrelated matters instead, which distracts the subject away from the central problem, for example, cleaning or organizing rather than working on projects that need to be done.\",\n",
    "    \"2\": \"The subject has repetitive or serial daydreams to which he or she retreats in lieu of real life social relationships.\",\n",
    "    \"3\": \"The subject has periods of saying highly positive things about him or herself, and other periods saying highly negative things about him or herself, without appearing to notice the contradiction and without addressing it, other than to feel confused about him or herself at moments.\",\n",
    "    \"4\": \"When confronting personal issues, the subject tends to ask general questions, as if getting general information or answers from others will elucidate his or her own feelings and concerns. As a result, personal reactions are kept at a distance.\",\n",
    "    \"5\": \"The subject loses his or her temper easily.\",\n",
    "    \"6\": \"The subject speaks of him or herself in a wholly negative way at times, as if there is nothing positive or redeeming about him or herself.\",\n",
    "    \"7\": \"The subject talks about how capable he or she is of influencing events or famous and important people. However, the emphasis is on the sense of personal power or abilities, rather than the detailed stories that support the claims as real.\",\n",
    "    \"8\": \"The subject behaves or says something in a very uncharacteristic way that expresses an uninhibited impulse operating out of the subject's usual control, yet the subject is surprised by it, (e.g. 'I threw a glass of water in my friend's face, but I don't know what made me do it').\",\n",
    "    \"9\": \"When talking with someone about a personally charged topic, the subject displays an accurate view of him or herself and can see how he or she appears from the other person's point of view.\",\n",
    "    \"10\": \"The subject acts in a very self-assured way and asserts an 'I can handle anything' attitude, in the face of problems that he or she in fact cannot fully control.\",\n",
    "    \"11\": \"The subject helps others who are experiencing a problem they cannot adequately deal with alone. The problem appears to have a personal meaning to the subject related to similar experiences in the subject's past (e.g. 'It made me feel good to help someone in the same position that I once found so difficult.').\",\n",
    "    \"12\": \"The subject says demeaning things about him – whether somewhat funny or not - such as 'I am so-ooooo stupid'.\",\n",
    "    \"13\": \"The subject keeps unpleasant things vague: he or she has trouble remembering or can't recall specific examples, when at least some should be forthcoming. This may include loss of memory for whole periods of time (e.g. childhood).\",\n",
    "    \"14\": \"In describing any personal artistic or creative activities – such as writing, music, art, or acting – the subject appears to transform emotional conflicts or unfulfilled wishes from elsewhere in life, helping to shape the creative activity or product.\",\n",
    "    \"15\": \"The subject finds it personally rewarding to help others who are suffering.\",\n",
    "    \"16\": \"The subject makes many references to how important certain people or objects are with an emphasis on their image, rather than real abilities or accomplishments which might make the person or object important to others.\",\n",
    "    \"17\": \"The subject tells stories in which he or she says glowing positive things about another person or object, without giving much detail to back it up.\",\n",
    "    \"18\": \"The subject makes amusing or ironic comments about embarrassing situations to diffuse them.\",\n",
    "    \"19\": \"To avoid taking responsibility for one's actions or misdeeds, the subject makes excuses or points out others' contributions to the problem, thereby minimizing his or her own role.\",\n",
    "    \"20\": \"When confronted with topics that might be personally meaningful, the subject denies they are important and refuses to talk about them further.\",\n",
    "    \"21\": \"The subject complains spontaneously about how others don't really care, or have made his or her problems worse, even when there is clear evidence that others have tried to help.\",\n",
    "    \"22\": \"Whenever the subject brings a personal problem to someone for help or advice, the subject is not expecting the other to take care of it, but rather to help come up with a solution which the subject will then implement.\",\n",
    "    \"23\": \"When pursuing something desirable, including a relationship with someone, the subject can use his or her talents and charms to attract the other, without feeling ashamed or guilty if unsuccessful.\",\n",
    "    \"24\": \"The subject daydreams a lot, not in a way that leads to creative planning or action, but simply for its own gratification, in lieu of action.\",\n",
    "    \"25\": \"The subject describes an important conflict or external stress in which affiliation played a major emotional role in coping as evident by the description of characteristics of the help received, the individuals or organization involved, and the sense that something was taken away from the experience.\",\n",
    "    \"26\": \"The subject talks about his personal experiences by making general statements that appear accurate but somehow avoid revealing specific personal feelings and reactions.\",\n",
    "    \"27\": \"The individual describes fugue states, amnesia (not alcoholic blackouts), multiple personality, spontaneous trance states, or temporary loss of sensory or motor function.\",\n",
    "    \"28\": \"When telling an emotionally meaningful story, the subject states that he or she does not have specific feelings that one would expect, although the subject recognizes that he or she should feel something.\",\n",
    "    \"29\": \"The subject makes a lot of unwarranted negative, sarcastic, or biting statements about the self, but the individual can acknowledge some of their positive aspects, if these are pointed out.\",\n",
    "    \"30\": \"In response to an emotionally charged situation, the subject suddenly becomes confused, depersonalized, 'spaced out,' or can't think or talk about the topic. Consciousness becomes clouded to a lesser or greater extent.\",\n",
    "    \"31\": \"In talking about a meaningful, emotionally charged experience, the subject talks in a detached way, as if he or she is not in touch with the feelings that should surround it.\",\n",
    "    \"32\": \"When confronting emotionally important problems, the subject can reflect upon relevant personal experiences and explore emotional reactions. This allows the subject to adjust better to limitations and compromises, possibly leading to more fulfilling outcomes.\",\n",
    "    \"33\": \"Contrary to the evidence from the interview, the subject claims to have done something that in all likelihood he or she did not do, and may become irritated if confronted with any discrepancy.\",\n",
    "    \"34\": \"When experiencing failure, disappointment, shame or loss of self-esteem, the subject dismisses the issue by saying something negative about him or herself, then dismisses the problem by moving to another topic and avoids focusing on the feelings.\",\n",
    "    \"35\": \"The subject experiences other people and objects in 'black or white' terms, failing to form more realistic views that balance positive and negative aspects of them.\",\n",
    "    \"36\": \"The subject describes emotional conflictual situations in which some of the feelings or dissatisfaction are channeled into creative or artistic activities. The resulting creative products – such as a poem or painting – give the subject a sense of mastery or relief from the conflicts.\",\n",
    "    \"37\": \"The subject can make humorous remarks about him or herself or others without saying negative, hurtful, or deprecating things.\",\n",
    "    \"38\": \"When confronted with any negative aspects of him or herself, the subject appears to downplay or ignore them by substituting talk about positive self-attributes instead.\",\n",
    "    \"39\": \"The subject clearly describes the details of either positive or distressing or traumatic experiences but fails to show any attendant emotion in tone of voice, facial expression, or bodily expression.\",\n",
    "    \"40\": \"In confronting difficult situations which the subject cannot change, the subject uses humor about the situation to mitigate the negative feelings arising.\",\n",
    "    \"41\": \"In response to a distressing topic or situation, the subject develops a symptom, such as headache, stomach pain, or loss of an ability to do something, which temporarily eclipses awareness of what was distressing. The symptom may have a symbolic relationship to the type of distress.\",\n",
    "    \"42\": \"The subject avoids feelings of guilt or shame by justifying his actions or by referring to external reasons that impelled him to act.\",\n",
    "    \"43\": \"Ahead of an important performance or occasion, the subject practices imagining him or herself in the situation to be both better prepared and less anxious.\",\n",
    "    \"44\": \"When the subject describes seeking help from others, there is a sense of having learned something from the interchange.\",\n",
    "    \"45\": \"At times when expressing an opinion or wish might be helpful, the subject fails to express himself adequately, instead finding indirect, even annoying ways to show his or her opposition to the influence of others, for example, being silent.\",\n",
    "    \"46\": \"The subject describes small events in his or her life in which he or she characteristically mentions thinking about their outcomes ahead of time and emotionally preparing in some way for them.\",\n",
    "    \"47\": \"At points when a topic is emotionally loaded, the subject forgets what he or she is talking about and seems to get lost while talking.\",\n",
    "    \"48\": \"When another person tries to clarify a statement made by the subject, the subject says thing like 'well, not really' or 'not exactly' followed by qualifications that do not clearly clarify things. Because the subject is wary of committing him or herself to any statement, the listener may be unsure as to the subject's definite opinion.\",\n",
    "    \"49\": \"When presented with an external demanding situation over which the subject has no control, the subject can accept the demand, putting negative feelings aside to deal with what must be done.\",\n",
    "    \"50\": \"When discussing a topic that brings up negative, conflicting feelings, the subject prefers to keep things vague, reflected in very vague, general or inexact statements.\",\n",
    "    \"51\": \"The subject diffuses a difficult situation with others by making a pertinent joke that centers on some important point that all can acknowledge without being at anyone's expense, thereby fostering cooperation.\",\n",
    "    \"52\": \"When confronting a personal wish about which the subject may feel guilty, the subject does not acknowledge or express it, but substitutes an opposite attitude against the wish, for instance, a desire is supplanted by renunciation or anger at anything to do with the desire.\",\n",
    "    \"53\": \"There is a lifeless quality to most of the subject's descriptions of his feelings and reactions, because the subject tries to explain them intellectually rather than experience or express them. For example: 'My present predicament is an inevitable product of my parents' extreme expectations and other parental experiences when growing up'.\",\n",
    "    \"54\": \"When a topic brings with it feelings of disappointment, shame or loss of self-esteem, the subject dismisses the issue by finding some fault or criticism elsewhere or by uttering obscene comments about it.\",\n",
    "    \"55\": \"The subject is very compliant, agreeing to most everything the interviewer points out, when some disagreement and discussion would be expected.\",\n",
    "    \"56\": \"The subject is preoccupied with real or exaggerated faults in him or herself, although he or she can acknowledge some realistic positive aspects, if these are pointed out.\",\n",
    "    \"57\": \"The subject distances him or herself from his or her own feelings by speaking about him or herself in the second or third person a lot, as if the subject were talking about someone else.\",\n",
    "    \"58\": \"In interpersonal conflicts, the subject uses an understanding of his or her reactions to facilitate understanding others' points of view or subjective experiences. This may make the subject a better negotiator or collaborator.\",\n",
    "    \"59\": \"When discussing a problem that the subject contributed to, the subject explains his or her own actions far more than necessary, as if explaining away his or her own fault.\",\n",
    "    \"60\": \"Whenever focusing on personal issues or experiences the subject tends to generalize or even discuss things in a logical or scientific way, thereby keeping his feelings and experiences very distant.\",\n",
    "    \"61\": \"The subject attributes unrealistic negative characteristics to an object, such as being all-powerful, malevolent, threatening. As a result, he or she makes some effort to protect him or herself from its influence, even though this response appears unwarranted or exaggerated.\",\n",
    "    \"62\": \"In confronting a new situation or an unknown task, the subject tries ahead of time to be aware of the emotional challenges and plan for whatever resources that will aid and comfort the subject in the new situation.\",\n",
    "    \"63\": \"Whenever engaging in a creative activity, the subject finds the process of creation itself satisfying, apart from any satisfaction with the final product.\",\n",
    "    \"64\": \"The subject directs strong feelings toward a person or object who has little to do with the subject but who may bear similarities to someone significant to the subject. The subject may be somewhat puzzled by the 'reason' for the strength of these feelings.\",\n",
    "    \"65\": \"The subject describes emotionally meaningful vignettes of upcoming stressful situations in which the subject fully prepared him or herself emotionally as to how to handle it.\",\n",
    "    \"66\": \"When confronted with emotional conflict or stressful situations, the subject describes confiding in someone. Emotionally meaningful sharing led to enhancement of coping skills, or direct assistance beyond what the subject would have done alone.\",\n",
    "    \"67\": \"The subject spontaneously describes some of his or her actions which are followed by actions that are of the opposite intent, as if every action must be balanced by an equal but opposite action. The subject is aware of the contradiction which may seem vexing or ironic.\",\n",
    "    \"68\": \"The subject makes clearly false statements about his own special powers and abilities (these may or may not be delusional).\",\n",
    "    \"69\": \"When confronting emotionally charged topics, the subject tends not to address concerns directly and fully but wanders off to tangentially related topics that are emotionally easier for the subject to discuss or prefers to pay attention to someone else dealing with a similar situation. This can include preferring to read or watch a film portraying people dealing with similar problems.\",\n",
    "    \"70\": \"The subject prefaces a strong statement about a topic with a disclaimer, to the effect that what he or she is about to say may not be true.\",\n",
    "    \"71\": \"The subject makes many references to how important he or she is with an emphasis on self-image, rather than real accomplishments which might make the person important to others.\",\n",
    "    \"72\": \"Sometimes the subject gets angry or fearful towards someone for no apparent reason, but then accuses the other person of intending to make him or her feel that way.\",\n",
    "    \"73\": \"The subject associates with or is fascinated by people who do very uninhibited, dramatic, or socially outrageous things, which appear to express some of the subject's own inhibited wishes. Nonetheless, the subject is unaware of any such connection.\",\n",
    "    \"74\": \"In dealing with people who are angry or abusive, the subject is cooperative and nice and eager to please, failing to express any negative feelings which might be expected.\",\n",
    "    \"75\": \"At times the subject's feelings merge with those of another person and the subject assumes the other's feelings and needs are exactly the same as the subject's own. He or she then tends to 'put words in the other's mouth'.\",\n",
    "    \"76\": \"In response to interpersonal disappointment or disagreement the subject tends to act impulsively, without reflection or considering the negative consequences.\",\n",
    "    \"77\": \"When considering an emotionally important decision, the subject explores his or her own motives and limitations to arrive at a more fulfilling decision.\",\n",
    "    \"78\": \"In dealing with interpersonal conflicts, the subject tries to imagine how others might respond in planning how to deal with them, but without obsessing or over planning.\",\n",
    "    \"79\": \"The subject participates in organizations or groups that help other people in direct person-to-person ways. In this context, the subject gives direct help to others, which the subject apparently finds rewarding.\",\n",
    "    \"80\": \"The subject is often inhibited from expressing him or herself, but sometimes acts in uncontrolled ways to get or do something he or she wants, ignoring normal constraints.\",\n",
    "    \"81\": \"The subject conveys opinions about something or someone with a series of opposite or contradictory statements, as if uncomfortable with taking a clear stand one way or the other.\",\n",
    "    \"82\": \"The subject devalues others' accomplishments or motives, to minimize their significance, but he or she quickly dismisses such topics rather than dwell on them.\",\n",
    "    \"83\": \"After the subject has done something that probably results in a feeling of guilt or shame, the subject makes an act of reparation, as if sorry. However, the subject focuses on the act but avoids dealing with the sense of guilt or shame as one would whenever making a normal apology.\",\n",
    "    \"84\": \"The subject recites a litany of issues and problems but does not appear to be engaged in solving them, but rather prefers to complain.\",\n",
    "    \"85\": \"When asked to discuss something about him or herself, the subject diverts the focus to saying negative things about others, as if devaluing others will raise his or her own self-esteem.\",\n",
    "    \"86\": \"Whenever confronted about his or her own feelings or intentions, the subject avoids acknowledging them by giving a plausible explanation that covers up the real subjective reasons.\",\n",
    "    \"87\": \"The subject tells stories in which others are saying positive things about him or herself.\",\n",
    "    \"88\": \"The subject fails to stand up for his or her interests and seems to let bad things happen to him or herself that could be prevented, maybe even assuming a 'martyr' role.\",\n",
    "    \"89\": \"While outwardly cooperative or compliant, the individual procrastinates and refuses to do things on time or as asked, even when it would be easy to do so.\",\n",
    "    \"90\": \"When the subject has a physical or emotional or practical problem, the subject takes steps to deal with his or her needs – possibly including initiating getting help – rather than ignore them or hope they will take care of themselves.\",\n",
    "    \"91\": \"When the subject reflects on past experiences, he or she can relive distressing feelings and make connections between events and feelings and develop understanding thereby changing how the subject views the past and possibly similar situations in the present.\",\n",
    "    \"92\": \"The subject attributes unrealistic positive characteristics to an object, such as being all-powerful, omni-benevolent, a savior. Because of the unrealistic belief that the positive object will take care of one's problems, the subject ignores the need to take care of some of his or her own needs.\",\n",
    "    \"93\": \"When dealing with an emotionally difficult situation, the subject reports that talking to others helps the subject think through how best to handle the problem.\",\n",
    "    \"94\": \"The subject fails to recognize that someone may be untrustworthy, hurtful, or manipulative and does not draw obvious conclusions based on their behavior. This generally results in using very poor judgment about how others will treat the subject.\",\n",
    "    \"95\": \"When confronted with problems, the subject prefers to dwell on the positive qualities of others on whom he or she relies, such as being lovable, smart, beautiful, creative, 'the best', as if those qualities will take care of the problems.\",\n",
    "    \"96\": \"In relationships, the subject has an attitude of giving much more than he or she receives but is unaware of the imbalance.\",\n",
    "    \"97\": \"Following experiences of emotional distress or conflict, the subject engages in sports or other physical activities which are an invigorating outlet for any lingering frustrations.\",\n",
    "    \"98\": \"The subject expresses a series of highly unrealistic positive attributes about him or herself whereas at another point the subject sees only negatives in him or herself. The subject dismisses attempts to see things in a balanced more realistic way.\",\n",
    "    \"99\": \"In fearful situations, the subject does not show expected fear, but reacts with exaggerated enthusiasm or courage, failing to acknowledge the fear.\",\n",
    "    \"100\": \"Following some strong experiences, the subject engages in his or her ordinary activities but with less effort, greater accomplishment and more pleasure than they normally would require or yield.\",\n",
    "    \"101\": \"In conversations, the subject sometimes seems confused about distinguishing his or her own feelings from those of the other person.\",\n",
    "    \"102\": \"When angry toward someone significant, the subject takes anger out on himself instead of expressing it directly.\",\n",
    "    \"103\": \"When the subject gets upset at someone, he or she gets very angry and loses control, but then blames the other person for making him or her lose control. Nonetheless, the subject may feel some guilt for losing control.\",\n",
    "    \"104\": \"The subject reacts to a difficult or dangerous situation for someone else by interposing him or herself to protect the other person. While not reckless, the subject may put him or herself at personal physical or material risk in doing so.\",\n",
    "    \"105\": \"When someone is impolite, dismissive, or derogatory toward the subject, the subject can stand up for him or herself appropriately, even if the subject cannot change the other's attitude or command an apology.\",\n",
    "    \"106\": \"In dealing with some problems, the subject prefers to daydream about solutions, as a substitute for planning direct, realistic, and effective actions.\",\n",
    "    \"107\": \"The subject talks as if emotionally detached from whatever he says about himself or his experiences.\",\n",
    "    \"108\": \"The subject cannot remember certain facts which would normally not be forgotten, such as a distressing incident, reflecting some uneasy feelings about the topic.\",\n",
    "    \"109\": \"The subject can disagree with others and express opinions without being overly hostile, devaluing, or manipulative of others.\",\n",
    "    \"110\": \"Whenever being self-assertive would be helpful, the subject may act passively but later withdraw into fantasies of being assertive or aggressive towards others as a compensation.\",\n",
    "    \"111\": \"The subject has negative things to say about a lot of individuals or objects, although he or she can acknowledge some of their positive aspects, if these are pointed out.\",\n",
    "    \"112\": \"When others comment or inquire about the subject's own feelings, actions, or intentions, the subject is very elusive or frankly denies the material, but the subject subsequently talks about similar feelings, actions, intentions, etc. in others.\",\n",
    "    \"113\": \"The subject feels provoked by someone when no obvious provocation is apparent. As the subject becomes angry, accusatory or verbally abusive, the subject provokes the same negative feelings in the other which the subject mistakenly believed the other person had at the outset.\",\n",
    "    \"114\": \"The subject expresses hatred toward someone or something and refuses to acknowledge anything that does not confirm the hatred.\",\n",
    "    \"115\": \"When experiencing or confronted with a problem, the subject shames, humiliates, or blames someone else for the problem, ignoring his or her own role.\",\n",
    "    \"116\": \"The subject has 'a chip on his or her shoulder' or a grudge, and seems to find reasons to feel unfairly treated, even when he or she is not.\",\n",
    "    \"117\": \"When the subject experiences a desire that if acted upon would have bad consequences, the subject is able to decide consciously to put the desire aside and not act upon it.\",\n",
    "    \"118\": \"Whenever the subject feels angry, disappointed or rejected by someone, the subject resorts to uncontrolled behaviors as an escape from distressing feelings, such as binge-eating, drinking, sexual escapades, drug use, reckless driving, or getting into trouble.\",\n",
    "    \"119\": \"When confronted by a situation fraught with competitive, hostile, or jealous feelings, the subject reveals something about him or herself in a self-deprecatory, ironic, or amusing way to diffuse the tension.\",\n",
    "    \"120\": \"Whenever discussing something uncomfortable about him or herself, the subject tries to convince someone else of a more positive explanation, as if lying to him or herself about the truth.\",\n",
    "    \"121\": \"Whenever talking about potentially distressing events or experiences, the subject strongly claims not to have any feelings about the topic, although this seems highly unlikely.\",\n",
    "    \"122\": \"When discussing an affect-laden event, the subject expresses more feelings directed toward incidental details or issues than about the major point or effect of the event, perhaps appearing 'picky'.\",\n",
    "    \"123\": \"An attitude of suspiciousness or prejudice toward a group of other individuals, allows the subject not to express an interest in the same motives or feelings but remain blind to them in him or herself.\",\n",
    "    \"124\": \"Whenever asked about things the subject did or felt, the subject denies any involvement, does not want to talk about them or avoids explaining his or her reluctance.\",\n",
    "    \"125\": \"The subject gets irritated easily by minor things that bother him or her and tends to lose a focus on the main things that need attention.\",\n",
    "    \"126\": \"There is excessive bravado in discussing problems or personal accomplishments that stands out as excessive or unrealistic.\",\n",
    "    \"127\": \"The subject tends to exaggerate his or her complaints about a life problem or somatic symptom, making them seem worse or more significant than they are.\",\n",
    "    \"128\": \"When the subject experiences a salient personal limitation or problem, rather than pretending it is not a problem, the subject acknowledges and accepts it, which allows the subject to avoid exacerbating problems. For example, acknowledging an addiction and accepting that one must avoid using the desired substance.\",\n",
    "    \"129\": \"The subject is very grandiose in describing personal plans, accomplishments or abilities, perhaps comparing him or herself to famous people.\",\n",
    "    \"130\": \"The subject complains about life issues or problems as if each were insoluble, and systematically rejects others' suggestions about ways of handling them.\",\n",
    "    \"131\": \"When attending to something emotionally important, if interrupted by something more urgent, the subject attends to the interruption as needed, but later returns and finishes dealing with what had to be postponed.\",\n",
    "    \"132\": \"The subject helps others who are at a loss to cope with a problem or situation, possibly including standing up to authority. It is clear that the subject obtains some personal gratification or mastery from the meaning of helping, beyond any overt reward obtained.\",\n",
    "    \"133\": \"The subject takes pleasure in referring a lot to his or her own positive but superficial attributes, like being beautiful, lovable, smart, well-dressed, worthy, a center of attention. This may be true even if the subject longs for qualities that are only imagined, wished for, or in the past.\",\n",
    "    \"134\": \"When others ask the subject questions, the subject is suspicious about others' real reasons or motives for the question.\",\n",
    "    \"135\": \"When confronted with problems, the subject prefers to dwell on his or her own positive qualities, such as being lovable, smart, beautiful, creative, 'the best', as if those qualities will take care of the problems.\",\n",
    "    \"136\": \"When certain feelings or wishes would arise, the subject gives some evidence of them – such as crying or appearing anxious but cannot clearly identify in words the specific feeling or the specific ideas that give the wish a clear meaning.\",\n",
    "    \"137\": \"The subject is hard to talk with, responding to many questions with answers like 'No' or 'not really' and does not elaborate, rather than giving some fuller answers which one would normally expect.\",\n",
    "    \"138\": \"The subject takes pleasure in referring a lot to positive but superficial attributes of others, like being beautiful, lovable, smart, well-dressed, worthy, a center of attention. This may be true even if the subject longs for qualities that are only imagined, wished for, or in the past.\",\n",
    "    \"139\": \"When confronted with any negative aspects of others important to the subject, the subject appears to downplay or ignore them, by substituting talk about the positive image or attributes instead.\",\n",
    "    \"140\": \"The subject describes events with good detail, but without mention of any attendant feelings, like a reporter describing the narrative of someone's life, but devoid of personal reactions.\",\n",
    "    \"141\": \"The subject perceives others as untrustworthy, unfaithful, or manipulative when there is no objective basis for these concerns. This may even appear paranoid.\",\n",
    "    \"142\": \"The subject tends to highlight objects with an emotional meaning that matches his or her own emotional tone at the moment. Any feeling that doesn't match this is ignored or denied.\",\n",
    "    \"143\": \"The subject makes sarcastic or biting statements about others to minimize their positive qualities and dismiss any competition or threat they may pose.\",\n",
    "    \"144\": \"The subject tends to express feelings, wishes or impulses directly in behavior, not only words, without prior thought. However, afterward, he or she may feel guilty or expect some punishment.\",\n",
    "    \"145\": \"Whenever saying something negative about him or herself, the subject rejects others' attempts to explore positive or more balanced views, and paradoxically becomes even more confirmed in his or her own worthlessness.\",\n",
    "    \"146\": \"When confronted with emotionally difficult situations, the subject expresses his or her thoughts, wishes, or feelings clearly and directly without inhibition or excess.\",\n",
    "    \"147\": \"When confronted by a personal disappointment the subject makes negative comments about him or herself but then avoids further discussion of the disappointment in any detail.\",\n",
    "    \"148\": \"The subject gets intensely involved in fantasy roles or actions that express wishes and feelings that the subject does not express in real life. For example, living out a role in a social situation or game or which has no connection to real life ways in which the subject expresses him or herself.\",\n",
    "    \"149\": \"When the subject brings up a problem to discuss, others try to address the problem, but in response the subject skips to a different problem, thereby dismissing rather than engaging others in any suggestions offered.\",\n",
    "    \"150\": \"When presented with an emotionally charged situation, the subject can postpone dealing with his or her feelings to attend to the things that need to be done immediately. The feelings don't get in the way or distract the subject, because the subject is able to give them adequate attention later.\"\n",
    "  },\n",
    "  \"defense_mechanisms\": {\n",
    "    \"acting_out\": [5, 76, 80, 118, 144],\n",
    "    \"help_rejecting_complaining\": [21, 84, 127, 130, 149],\n",
    "    \"passive_aggression\": [45, 88, 89, 102, 116],\n",
    "    \"splitting_of_objects_image\": [35, 61, 92, 94, 114],\n",
    "    \"splitting_of_self_image\": [3, 6, 98, 142, 145],\n",
    "    \"projective_identification\": [72, 75, 101, 103, 113],\n",
    "    \"autistic_fantasy\": [2, 24, 106, 110, 148],\n",
    "    \"projection\": [112, 115, 123, 134, 141],\n",
    "    \"rationalization\": [19, 42, 59, 86, 120],\n",
    "    \"denial\": [20, 33, 121, 124, 137],\n",
    "    \"omnipotence\": [7, 10, 68, 126, 129],\n",
    "    \"idealization_self_image\": [38, 71, 87, 133, 135],\n",
    "    \"idealization_others_image\": [16, 17, 95, 138, 139],\n",
    "    \"devaluation_self_image\": [12, 29, 34, 56, 147],\n",
    "    \"devaluation_others_image\": [54, 82, 85, 111, 143],\n",
    "    \"displacement\": [1, 64, 69, 122, 125],\n",
    "    \"reaction_formation\": [52, 55, 74, 96, 99],\n",
    "    \"dissociation\": [8, 27, 30, 41, 73],\n",
    "    \"repression\": [13, 47, 50, 108, 136],\n",
    "    \"undoing\": [48, 67, 70, 81, 83],\n",
    "    \"intellectualization\": [4, 26, 53, 57, 60],\n",
    "    \"isolation_of_affects\": [28, 31, 39, 107, 140],\n",
    "    \"affiliation\": [22, 25, 44, 66, 93],\n",
    "    \"altruism\": [11, 15, 79, 104, 132],\n",
    "    \"anticipation\": [43, 46, 62, 65, 78],\n",
    "    \"humor\": [18, 37, 40, 51, 119],\n",
    "    \"self_assertion\": [23, 90, 105, 109, 146],\n",
    "    \"self_observation\": [9, 32, 58, 77, 91],\n",
    "    \"sublimation\": [14, 36, 63, 97, 100],\n",
    "    \"suppression\": [49, 117, 128, 131, 150]\n",
    "  },\n",
    "  \"defense_levels\": {\n",
    "    \"action\": [\"acting_out\", \"help_rejecting_complaining\", \"passive_aggression\"],\n",
    "    \"major_image_distorting\": [\"splitting_of_objects_image\", \"splitting_of_self_image\", \"projective_identification\"],\n",
    "    \"disavowal\": [\"autistic_fantasy\", \"projection\", \"rationalization\", \"denial\"],\n",
    "    \"minor_image_distorting\": [\"omnipotence\", \"idealization_self_image\", \"idealization_others_image\", \"devaluation_self_image\", \"devaluation_others_image\"],\n",
    "    \"neurotic\": [\"displacement\", \"reaction_formation\", \"dissociation\", \"repression\"],\n",
    "    \"hysterical\": [\"dissociation\", \"repression\"],\n",
    "    \"other_neurotic\": [\"displacement\", \"reaction_formation\"],\n",
    "    \"obsessional\": [\"undoing\", \"intellectualization\", \"isolation_of_affects\"],\n",
    "    \"high_adaptive\": [\"affiliation\", \"altruism\", \"anticipation\", \"humor\", \"self_assertion\", \"self_observation\", \"sublimation\", \"suppression\"]\n",
    "  },\n",
    "  \"defense_categories\": {\n",
    "    \"immature\": [\"acting_out\", \"help_rejecting_complaining\", \"passive_aggression\", \"splitting_of_objects_image\", \"splitting_of_self_image\", \"projective_identification\", \"autistic_fantasy\", \"projection\", \"rationalization\", \"denial\", \"omnipotence\", \"idealization_self_image\", \"idealization_others_image\", \"devaluation_self_image\", \"devaluation_others_image\"],\n",
    "    \"depressive\": [\"acting_out\", \"help_rejecting_complaining\", \"passive_aggression\", \"splitting_of_objects_image\", \"splitting_of_self_image\", \"projective_identification\", \"projection\", \"devaluation_self_image\", \"devaluation_others_image\"],\n",
    "    \"other_immature\": [\"autistic_fantasy\", \"rationalization\", \"denial\", \"omnipotence\", \"idealization_self_image\", \"idealization_others_image\"],\n",
    "    \"neurotic\": [\"displacement\", \"reaction_formation\", \"dissociation\", \"repression\", \"undoing\", \"intellectualization\", \"isolation_of_affects\"],\n",
    "    \"mature\": [\"affiliation\", \"altruism\", \"anticipation\", \"humor\", \"self_assertion\", \"self_observation\", \"sublimation\", \"suppression\"]\n",
    "  },\n",
    "  \"scoring_formulas\": {\n",
    "    \"individual_defense_scores\": \"[(Sum of items for each defense mechanisms) - 5] * 100/234\",\n",
    "    \"defense_level_scores\": {\n",
    "      \"L1_action\": \"Sum of D1, D2, and D3\",\n",
    "      \"L2_major_image_distorting\": \"Sum of D4, D5, and D6\",\n",
    "      \"L3_disavowal\": \"Sum of D7, D8, D9, and D10\",\n",
    "      \"L4_minor_image_distorting\": \"Sum of D11, D12, D13, D14, and D15\",\n",
    "      \"L5_neurotic\": \"Sum of D16, D17, D18, and D19\",\n",
    "      \"L5a_hysterical\": \"Sum of D18 and D19\",\n",
    "      \"L5b_other_neurotic\": \"Sum of D16 and D17\",\n",
    "      \"L6_obsessional\": \"Sum of D20, D21, and D22\",\n",
    "      \"L7_high_adaptive\": \"Sum of D23, D24, D25, D26, D27, D28, D29, and D30\"\n",
    "    },\n",
    "    \"defense_category_scores\": {\n",
    "      \"C1_immature\": \"Sum of D1, D2, D3, D4, D5, D6, D7, D8, D9, D10, D11, D12, D13, D14, and D15\",\n",
    "      \"C1a_depressive\": \"Sum of D1, D2, D3, D4, D5, D6, D8, D14, and D15\",\n",
    "      \"C1b_other_immature\": \"Sum of D7, D9, D10, D11, D12, and D13\",\n",
    "      \"C2_neurotic\": \"Sum of D16, D17, D18, D19, D20, D21, and D22\",\n",
    "      \"C3_mature\": \"Sum of D23, D24, D25, D26, D27, D28, D29, and D30\"\n",
    "    },\n",
    "    \"overall_defensive_functioning\": \"(L1/100)*1 + (L2/100)*2 + (L3/100)*3 + (L4/100)*4 + (L5/100)*5 + (L6/100)*6 + (L7/100)*7\"\n",
    "  }\n",
    "}\n",
    "\n",
    "import json\n",
    "\n",
    "# Save the dictionary as a JSON file\n",
    "with open(\"tree.json\", \"w\") as f:\n",
    "    json.dump(tree, f, indent=2)"
   ]
  },
  {
   "cell_type": "code",
   "execution_count": 18,
   "id": "76ea1a0c-772f-46fd-99fb-56c49489dc1c",
   "metadata": {},
   "outputs": [],
   "source": [
    "# 1. Open and parse\n",
    "with open('tree.json', 'r', encoding='utf-8') as f:\n",
    "    data = json.load(f)"
   ]
  },
  {
   "cell_type": "code",
   "execution_count": 19,
   "id": "4cf7d2ab-9fe3-49dd-bea3-f5e28f14ac55",
   "metadata": {
    "scrolled": true
   },
   "outputs": [
    {
     "name": "stdout",
     "output_type": "stream",
     "text": [
      "dict_keys(['questions', 'defense_mechanisms', 'defense_levels', 'defense_categories', 'scoring_formulas'])\n"
     ]
    }
   ],
   "source": [
    "# Inspect top-level keys\n",
    "print(data.keys())"
   ]
  },
  {
   "cell_type": "code",
   "execution_count": 29,
   "id": "99d53d58-852e-48b0-93f1-26acff159358",
   "metadata": {
    "scrolled": true
   },
   "outputs": [
    {
     "name": "stdout",
     "output_type": "stream",
     "text": [
      "1: In dealing with an important problem that makes the anxious, the subject prefers to focus on minor or unrelated matters instead, which distracts the subject away from the central problem, for example, cleaning or organizing rather than working on projects that need to be done.\n",
      "2: The subject has repetitive or serial daydreams to which he or she retreats in lieu of real life social relationships.\n",
      "3: The subject has periods of saying highly positive things about him or herself, and other periods saying highly negative things about him or herself, without appearing to notice the contradiction and without addressing it, other than to feel confused about him or herself at moments.\n",
      "4: When confronting personal issues, the subject tends to ask general questions, as if getting general information or answers from others will elucidate his or her own feelings and concerns. As a result, personal reactions are kept at a distance.\n",
      "5: The subject loses his or her temper easily.\n",
      "6: The subject speaks of him or herself in a wholly negative way at times, as if there is nothing positive or redeeming about him or herself.\n",
      "7: The subject talks about how capable he or she is of influencing events or famous and important people. However, the emphasis is on the sense of personal power or abilities, rather than the detailed stories that support the claims as real.\n",
      "8: The subject behaves or says something in a very uncharacteristic way that expresses an uninhibited impulse operating out of the subject's usual control, yet the subject is surprised by it, (e.g. 'I threw a glass of water in my friend's face, but I don't know what made me do it').\n",
      "9: When talking with someone about a personally charged topic, the subject displays an accurate view of him or herself and can see how he or she appears from the other person's point of view.\n",
      "10: The subject acts in a very self-assured way and asserts an 'I can handle anything' attitude, in the face of problems that he or she in fact cannot fully control.\n",
      "11: The subject helps others who are experiencing a problem they cannot adequately deal with alone. The problem appears to have a personal meaning to the subject related to similar experiences in the subject's past (e.g. 'It made me feel good to help someone in the same position that I once found so difficult.').\n",
      "12: The subject says demeaning things about him – whether somewhat funny or not - such as 'I am so-ooooo stupid'.\n",
      "13: The subject keeps unpleasant things vague: he or she has trouble remembering or can't recall specific examples, when at least some should be forthcoming. This may include loss of memory for whole periods of time (e.g. childhood).\n",
      "14: In describing any personal artistic or creative activities – such as writing, music, art, or acting – the subject appears to transform emotional conflicts or unfulfilled wishes from elsewhere in life, helping to shape the creative activity or product.\n",
      "15: The subject finds it personally rewarding to help others who are suffering.\n",
      "16: The subject makes many references to how important certain people or objects are with an emphasis on their image, rather than real abilities or accomplishments which might make the person or object important to others.\n",
      "17: The subject tells stories in which he or she says glowing positive things about another person or object, without giving much detail to back it up.\n",
      "18: The subject makes amusing or ironic comments about embarrassing situations to diffuse them.\n",
      "19: To avoid taking responsibility for one's actions or misdeeds, the subject makes excuses or points out others' contributions to the problem, thereby minimizing his or her own role.\n",
      "20: When confronted with topics that might be personally meaningful, the subject denies they are important and refuses to talk about them further.\n",
      "21: The subject complains spontaneously about how others don't really care, or have made his or her problems worse, even when there is clear evidence that others have tried to help.\n",
      "22: Whenever the subject brings a personal problem to someone for help or advice, the subject is not expecting the other to take care of it, but rather to help come up with a solution which the subject will then implement.\n",
      "23: When pursuing something desirable, including a relationship with someone, the subject can use his or her talents and charms to attract the other, without feeling ashamed or guilty if unsuccessful.\n",
      "24: The subject daydreams a lot, not in a way that leads to creative planning or action, but simply for its own gratification, in lieu of action.\n",
      "25: The subject describes an important conflict or external stress in which affiliation played a major emotional role in coping as evident by the description of characteristics of the help received, the individuals or organization involved, and the sense that something was taken away from the experience.\n",
      "26: The subject talks about his personal experiences by making general statements that appear accurate but somehow avoid revealing specific personal feelings and reactions.\n",
      "27: The individual describes fugue states, amnesia (not alcoholic blackouts), multiple personality, spontaneous trance states, or temporary loss of sensory or motor function.\n",
      "28: When telling an emotionally meaningful story, the subject states that he or she does not have specific feelings that one would expect, although the subject recognizes that he or she should feel something.\n",
      "29: The subject makes a lot of unwarranted negative, sarcastic, or biting statements about the self, but the individual can acknowledge some of their positive aspects, if these are pointed out.\n",
      "30: In response to an emotionally charged situation, the subject suddenly becomes confused, depersonalized, 'spaced out,' or can't think or talk about the topic. Consciousness becomes clouded to a lesser or greater extent.\n",
      "31: In talking about a meaningful, emotionally charged experience, the subject talks in a detached way, as if he or she is not in touch with the feelings that should surround it.\n",
      "32: When confronting emotionally important problems, the subject can reflect upon relevant personal experiences and explore emotional reactions. This allows the subject to adjust better to limitations and compromises, possibly leading to more fulfilling outcomes.\n",
      "33: Contrary to the evidence from the interview, the subject claims to have done something that in all likelihood he or she did not do, and may become irritated if confronted with any discrepancy.\n",
      "34: When experiencing failure, disappointment, shame or loss of self-esteem, the subject dismisses the issue by saying something negative about him or herself, then dismisses the problem by moving to another topic and avoids focusing on the feelings.\n",
      "35: The subject experiences other people and objects in 'black or white' terms, failing to form more realistic views that balance positive and negative aspects of them.\n",
      "36: The subject describes emotional conflictual situations in which some of the feelings or dissatisfaction are channeled into creative or artistic activities. The resulting creative products – such as a poem or painting – give the subject a sense of mastery or relief from the conflicts.\n",
      "37: The subject can make humorous remarks about him or herself or others without saying negative, hurtful, or deprecating things.\n",
      "38: When confronted with any negative aspects of him or herself, the subject appears to downplay or ignore them by substituting talk about positive self-attributes instead.\n",
      "39: The subject clearly describes the details of either positive or distressing or traumatic experiences but fails to show any attendant emotion in tone of voice, facial expression, or bodily expression.\n",
      "40: In confronting difficult situations which the subject cannot change, the subject uses humor about the situation to mitigate the negative feelings arising.\n",
      "41: In response to a distressing topic or situation, the subject develops a symptom, such as headache, stomach pain, or loss of an ability to do something, which temporarily eclipses awareness of what was distressing. The symptom may have a symbolic relationship to the type of distress.\n",
      "42: The subject avoids feelings of guilt or shame by justifying his actions or by referring to external reasons that impelled him to act.\n",
      "43: Ahead of an important performance or occasion, the subject practices imagining him or herself in the situation to be both better prepared and less anxious.\n",
      "44: When the subject describes seeking help from others, there is a sense of having learned something from the interchange.\n",
      "45: At times when expressing an opinion or wish might be helpful, the subject fails to express himself adequately, instead finding indirect, even annoying ways to show his or her opposition to the influence of others, for example, being silent.\n",
      "46: The subject describes small events in his or her life in which he or she characteristically mentions thinking about their outcomes ahead of time and emotionally preparing in some way for them.\n",
      "47: At points when a topic is emotionally loaded, the subject forgets what he or she is talking about and seems to get lost while talking.\n",
      "48: When another person tries to clarify a statement made by the subject, the subject says thing like 'well, not really' or 'not exactly' followed by qualifications that do not clearly clarify things. Because the subject is wary of committing him or herself to any statement, the listener may be unsure as to the subject's definite opinion.\n",
      "49: When presented with an external demanding situation over which the subject has no control, the subject can accept the demand, putting negative feelings aside to deal with what must be done.\n",
      "50: When discussing a topic that brings up negative, conflicting feelings, the subject prefers to keep things vague, reflected in very vague, general or inexact statements.\n",
      "51: The subject diffuses a difficult situation with others by making a pertinent joke that centers on some important point that all can acknowledge without being at anyone's expense, thereby fostering cooperation.\n",
      "52: When confronting a personal wish about which the subject may feel guilty, the subject does not acknowledge or express it, but substitutes an opposite attitude against the wish, for instance, a desire is supplanted by renunciation or anger at anything to do with the desire.\n",
      "53: There is a lifeless quality to most of the subject's descriptions of his feelings and reactions, because the subject tries to explain them intellectually rather than experience or express them. For example: 'My present predicament is an inevitable product of my parents' extreme expectations and other parental experiences when growing up'.\n",
      "54: When a topic brings with it feelings of disappointment, shame or loss of self-esteem, the subject dismisses the issue by finding some fault or criticism elsewhere or by uttering obscene comments about it.\n",
      "55: The subject is very compliant, agreeing to most everything the interviewer points out, when some disagreement and discussion would be expected.\n",
      "56: The subject is preoccupied with real or exaggerated faults in him or herself, although he or she can acknowledge some realistic positive aspects, if these are pointed out.\n",
      "57: The subject distances him or herself from his or her own feelings by speaking about him or herself in the second or third person a lot, as if the subject were talking about someone else.\n",
      "58: In interpersonal conflicts, the subject uses an understanding of his or her reactions to facilitate understanding others' points of view or subjective experiences. This may make the subject a better negotiator or collaborator.\n",
      "59: When discussing a problem that the subject contributed to, the subject explains his or her own actions far more than necessary, as if explaining away his or her own fault.\n",
      "60: Whenever focusing on personal issues or experiences the subject tends to generalize or even discuss things in a logical or scientific way, thereby keeping his feelings and experiences very distant.\n",
      "61: The subject attributes unrealistic negative characteristics to an object, such as being all-powerful, malevolent, threatening. As a result, he or she makes some effort to protect him or herself from its influence, even though this response appears unwarranted or exaggerated.\n",
      "62: In confronting a new situation or an unknown task, the subject tries ahead of time to be aware of the emotional challenges and plan for whatever resources that will aid and comfort the subject in the new situation.\n",
      "63: Whenever engaging in a creative activity, the subject finds the process of creation itself satisfying, apart from any satisfaction with the final product.\n",
      "64: The subject directs strong feelings toward a person or object who has little to do with the subject but who may bear similarities to someone significant to the subject. The subject may be somewhat puzzled by the 'reason' for the strength of these feelings.\n",
      "65: The subject describes emotionally meaningful vignettes of upcoming stressful situations in which the subject fully prepared him or herself emotionally as to how to handle it.\n",
      "66: When confronted with emotional conflict or stressful situations, the subject describes confiding in someone. Emotionally meaningful sharing led to enhancement of coping skills, or direct assistance beyond what the subject would have done alone.\n",
      "67: The subject spontaneously describes some of his or her actions which are followed by actions that are of the opposite intent, as if every action must be balanced by an equal but opposite action. The subject is aware of the contradiction which may seem vexing or ironic.\n",
      "68: The subject makes clearly false statements about his own special powers and abilities (these may or may not be delusional).\n",
      "69: When confronting emotionally charged topics, the subject tends not to address concerns directly and fully but wanders off to tangentially related topics that are emotionally easier for the subject to discuss or prefers to pay attention to someone else dealing with a similar situation. This can include preferring to read or watch a film portraying people dealing with similar problems.\n",
      "70: The subject prefaces a strong statement about a topic with a disclaimer, to the effect that what he or she is about to say may not be true.\n",
      "71: The subject makes many references to how important he or she is with an emphasis on self-image, rather than real accomplishments which might make the person important to others.\n",
      "72: Sometimes the subject gets angry or fearful towards someone for no apparent reason, but then accuses the other person of intending to make him or her feel that way.\n",
      "73: The subject associates with or is fascinated by people who do very uninhibited, dramatic, or socially outrageous things, which appear to express some of the subject's own inhibited wishes. Nonetheless, the subject is unaware of any such connection.\n",
      "74: In dealing with people who are angry or abusive, the subject is cooperative and nice and eager to please, failing to express any negative feelings which might be expected.\n",
      "75: At times the subject's feelings merge with those of another person and the subject assumes the other's feelings and needs are exactly the same as the subject's own. He or she then tends to 'put words in the other's mouth'.\n",
      "76: In response to interpersonal disappointment or disagreement the subject tends to act impulsively, without reflection or considering the negative consequences.\n",
      "77: When considering an emotionally important decision, the subject explores his or her own motives and limitations to arrive at a more fulfilling decision.\n",
      "78: In dealing with interpersonal conflicts, the subject tries to imagine how others might respond in planning how to deal with them, but without obsessing or over planning.\n",
      "79: The subject participates in organizations or groups that help other people in direct person-to-person ways. In this context, the subject gives direct help to others, which the subject apparently finds rewarding.\n",
      "80: The subject is often inhibited from expressing him or herself, but sometimes acts in uncontrolled ways to get or do something he or she wants, ignoring normal constraints.\n",
      "81: The subject conveys opinions about something or someone with a series of opposite or contradictory statements, as if uncomfortable with taking a clear stand one way or the other.\n",
      "82: The subject devalues others' accomplishments or motives, to minimize their significance, but he or she quickly dismisses such topics rather than dwell on them.\n",
      "83: After the subject has done something that probably results in a feeling of guilt or shame, the subject makes an act of reparation, as if sorry. However, the subject focuses on the act but avoids dealing with the sense of guilt or shame as one would whenever making a normal apology.\n",
      "84: The subject recites a litany of issues and problems but does not appear to be engaged in solving them, but rather prefers to complain.\n",
      "85: When asked to discuss something about him or herself, the subject diverts the focus to saying negative things about others, as if devaluing others will raise his or her own self-esteem.\n",
      "86: Whenever confronted about his or her own feelings or intentions, the subject avoids acknowledging them by giving a plausible explanation that covers up the real subjective reasons.\n",
      "87: The subject tells stories in which others are saying positive things about him or herself.\n",
      "88: The subject fails to stand up for his or her interests and seems to let bad things happen to him or herself that could be prevented, maybe even assuming a 'martyr' role.\n",
      "89: While outwardly cooperative or compliant, the individual procrastinates and refuses to do things on time or as asked, even when it would be easy to do so.\n",
      "90: When the subject has a physical or emotional or practical problem, the subject takes steps to deal with his or her needs – possibly including initiating getting help – rather than ignore them or hope they will take care of themselves.\n",
      "91: When the subject reflects on past experiences, he or she can relive distressing feelings and make connections between events and feelings and develop understanding thereby changing how the subject views the past and possibly similar situations in the present.\n",
      "92: The subject attributes unrealistic positive characteristics to an object, such as being all-powerful, omni-benevolent, a savior. Because of the unrealistic belief that the positive object will take care of one's problems, the subject ignores the need to take care of some of his or her own needs.\n",
      "93: When dealing with an emotionally difficult situation, the subject reports that talking to others helps the subject think through how best to handle the problem.\n",
      "94: The subject fails to recognize that someone may be untrustworthy, hurtful, or manipulative and does not draw obvious conclusions based on their behavior. This generally results in using very poor judgment about how others will treat the subject.\n",
      "95: When confronted with problems, the subject prefers to dwell on the positive qualities of others on whom he or she relies, such as being lovable, smart, beautiful, creative, 'the best', as if those qualities will take care of the problems.\n",
      "96: In relationships, the subject has an attitude of giving much more than he or she receives but is unaware of the imbalance.\n",
      "97: Following experiences of emotional distress or conflict, the subject engages in sports or other physical activities which are an invigorating outlet for any lingering frustrations.\n",
      "98: The subject expresses a series of highly unrealistic positive attributes about him or herself whereas at another point the subject sees only negatives in him or herself. The subject dismisses attempts to see things in a balanced more realistic way.\n",
      "99: In fearful situations, the subject does not show expected fear, but reacts with exaggerated enthusiasm or courage, failing to acknowledge the fear.\n",
      "100: Following some strong experiences, the subject engages in his or her ordinary activities but with less effort, greater accomplishment and more pleasure than they normally would require or yield.\n",
      "101: In conversations, the subject sometimes seems confused about distinguishing his or her own feelings from those of the other person.\n",
      "102: When angry toward someone significant, the subject takes anger out on himself instead of expressing it directly.\n",
      "103: When the subject gets upset at someone, he or she gets very angry and loses control, but then blames the other person for making him or her lose control. Nonetheless, the subject may feel some guilt for losing control.\n",
      "104: The subject reacts to a difficult or dangerous situation for someone else by interposing him or herself to protect the other person. While not reckless, the subject may put him or herself at personal physical or material risk in doing so.\n",
      "105: When someone is impolite, dismissive, or derogatory toward the subject, the subject can stand up for him or herself appropriately, even if the subject cannot change the other's attitude or command an apology.\n",
      "106: In dealing with some problems, the subject prefers to daydream about solutions, as a substitute for planning direct, realistic, and effective actions.\n",
      "107: The subject talks as if emotionally detached from whatever he says about himself or his experiences.\n",
      "108: The subject cannot remember certain facts which would normally not be forgotten, such as a distressing incident, reflecting some uneasy feelings about the topic.\n",
      "109: The subject can disagree with others and express opinions without being overly hostile, devaluing, or manipulative of others.\n",
      "110: Whenever being self-assertive would be helpful, the subject may act passively but later withdraw into fantasies of being assertive or aggressive towards others as a compensation.\n",
      "111: The subject has negative things to say about a lot of individuals or objects, although he or she can acknowledge some of their positive aspects, if these are pointed out.\n",
      "112: When others comment or inquire about the subject's own feelings, actions, or intentions, the subject is very elusive or frankly denies the material, but the subject subsequently talks about similar feelings, actions, intentions, etc. in others.\n",
      "113: The subject feels provoked by someone when no obvious provocation is apparent. As the subject becomes angry, accusatory or verbally abusive, the subject provokes the same negative feelings in the other which the subject mistakenly believed the other person had at the outset.\n",
      "114: The subject expresses hatred toward someone or something and refuses to acknowledge anything that does not confirm the hatred.\n",
      "115: When experiencing or confronted with a problem, the subject shames, humiliates, or blames someone else for the problem, ignoring his or her own role.\n",
      "116: The subject has 'a chip on his or her shoulder' or a grudge, and seems to find reasons to feel unfairly treated, even when he or she is not.\n",
      "117: When the subject experiences a desire that if acted upon would have bad consequences, the subject is able to decide consciously to put the desire aside and not act upon it.\n",
      "118: Whenever the subject feels angry, disappointed or rejected by someone, the subject resorts to uncontrolled behaviors as an escape from distressing feelings, such as binge-eating, drinking, sexual escapades, drug use, reckless driving, or getting into trouble.\n",
      "119: When confronted by a situation fraught with competitive, hostile, or jealous feelings, the subject reveals something about him or herself in a self-deprecatory, ironic, or amusing way to diffuse the tension.\n",
      "120: Whenever discussing something uncomfortable about him or herself, the subject tries to convince someone else of a more positive explanation, as if lying to him or herself about the truth.\n",
      "121: Whenever talking about potentially distressing events or experiences, the subject strongly claims not to have any feelings about the topic, although this seems highly unlikely.\n",
      "122: When discussing an affect-laden event, the subject expresses more feelings directed toward incidental details or issues than about the major point or effect of the event, perhaps appearing 'picky'.\n",
      "123: An attitude of suspiciousness or prejudice toward a group of other individuals, allows the subject not to express an interest in the same motives or feelings but remain blind to them in him or herself.\n",
      "124: Whenever asked about things the subject did or felt, the subject denies any involvement, does not want to talk about them or avoids explaining his or her reluctance.\n",
      "125: The subject gets irritated easily by minor things that bother him or her and tends to lose a focus on the main things that need attention.\n",
      "126: There is excessive bravado in discussing problems or personal accomplishments that stands out as excessive or unrealistic.\n",
      "127: The subject tends to exaggerate his or her complaints about a life problem or somatic symptom, making them seem worse or more significant than they are.\n",
      "128: When the subject experiences a salient personal limitation or problem, rather than pretending it is not a problem, the subject acknowledges and accepts it, which allows the subject to avoid exacerbating problems. For example, acknowledging an addiction and accepting that one must avoid using the desired substance.\n",
      "129: The subject is very grandiose in describing personal plans, accomplishments or abilities, perhaps comparing him or herself to famous people.\n",
      "130: The subject complains about life issues or problems as if each were insoluble, and systematically rejects others' suggestions about ways of handling them.\n",
      "131: When attending to something emotionally important, if interrupted by something more urgent, the subject attends to the interruption as needed, but later returns and finishes dealing with what had to be postponed.\n",
      "132: The subject helps others who are at a loss to cope with a problem or situation, possibly including standing up to authority. It is clear that the subject obtains some personal gratification or mastery from the meaning of helping, beyond any overt reward obtained.\n",
      "133: The subject takes pleasure in referring a lot to his or her own positive but superficial attributes, like being beautiful, lovable, smart, well-dressed, worthy, a center of attention. This may be true even if the subject longs for qualities that are only imagined, wished for, or in the past.\n",
      "134: When others ask the subject questions, the subject is suspicious about others' real reasons or motives for the question.\n",
      "135: When confronted with problems, the subject prefers to dwell on his or her own positive qualities, such as being lovable, smart, beautiful, creative, 'the best', as if those qualities will take care of the problems.\n",
      "136: When certain feelings or wishes would arise, the subject gives some evidence of them – such as crying or appearing anxious but cannot clearly identify in words the specific feeling or the specific ideas that give the wish a clear meaning.\n",
      "137: The subject is hard to talk with, responding to many questions with answers like 'No' or 'not really' and does not elaborate, rather than giving some fuller answers which one would normally expect.\n",
      "138: The subject takes pleasure in referring a lot to positive but superficial attributes of others, like being beautiful, lovable, smart, well-dressed, worthy, a center of attention. This may be true even if the subject longs for qualities that are only imagined, wished for, or in the past.\n",
      "139: When confronted with any negative aspects of others important to the subject, the subject appears to downplay or ignore them, by substituting talk about the positive image or attributes instead.\n",
      "140: The subject describes events with good detail, but without mention of any attendant feelings, like a reporter describing the narrative of someone's life, but devoid of personal reactions.\n",
      "141: The subject perceives others as untrustworthy, unfaithful, or manipulative when there is no objective basis for these concerns. This may even appear paranoid.\n",
      "142: The subject tends to highlight objects with an emotional meaning that matches his or her own emotional tone at the moment. Any feeling that doesn't match this is ignored or denied.\n",
      "143: The subject makes sarcastic or biting statements about others to minimize their positive qualities and dismiss any competition or threat they may pose.\n",
      "144: The subject tends to express feelings, wishes or impulses directly in behavior, not only words, without prior thought. However, afterward, he or she may feel guilty or expect some punishment.\n",
      "145: Whenever saying something negative about him or herself, the subject rejects others' attempts to explore positive or more balanced views, and paradoxically becomes even more confirmed in his or her own worthlessness.\n",
      "146: When confronted with emotionally difficult situations, the subject expresses his or her thoughts, wishes, or feelings clearly and directly without inhibition or excess.\n",
      "147: When confronted by a personal disappointment the subject makes negative comments about him or herself but then avoids further discussion of the disappointment in any detail.\n",
      "148: The subject gets intensely involved in fantasy roles or actions that express wishes and feelings that the subject does not express in real life. For example, living out a role in a social situation or game or which has no connection to real life ways in which the subject expresses him or herself.\n",
      "149: When the subject brings up a problem to discuss, others try to address the problem, but in response the subject skips to a different problem, thereby dismissing rather than engaging others in any suggestions offered.\n",
      "150: When presented with an emotionally charged situation, the subject can postpone dealing with his or her feelings to attend to the things that need to be done immediately. The feelings don't get in the way or distract the subject, because the subject is able to give them adequate attention later.\n"
     ]
    }
   ],
   "source": [
    "for name, items in data['questions'].items():\n",
    "    print(f\"{name}: {items}\")"
   ]
  },
  {
   "cell_type": "code",
   "execution_count": 28,
   "id": "87617c01-f8b5-448c-a157-1c4c4524fddc",
   "metadata": {
    "scrolled": true
   },
   "outputs": [
    {
     "name": "stdout",
     "output_type": "stream",
     "text": [
      "acting_out: [5, 76, 80, 118, 144]\n",
      "help_rejecting_complaining: [21, 84, 127, 130, 149]\n",
      "passive_aggression: [45, 88, 89, 102, 116]\n",
      "splitting_of_objects_image: [35, 61, 92, 94, 114]\n",
      "splitting_of_self_image: [3, 6, 98, 142, 145]\n",
      "projective_identification: [72, 75, 101, 103, 113]\n",
      "autistic_fantasy: [2, 24, 106, 110, 148]\n",
      "projection: [112, 115, 123, 134, 141]\n",
      "rationalization: [19, 42, 59, 86, 120]\n",
      "denial: [20, 33, 121, 124, 137]\n",
      "omnipotence: [7, 10, 68, 126, 129]\n",
      "idealization_self_image: [38, 71, 87, 133, 135]\n",
      "idealization_others_image: [16, 17, 95, 138, 139]\n",
      "devaluation_self_image: [12, 29, 34, 56, 147]\n",
      "devaluation_others_image: [54, 82, 85, 111, 143]\n",
      "displacement: [1, 64, 69, 122, 125]\n",
      "reaction_formation: [52, 55, 74, 96, 99]\n",
      "dissociation: [8, 27, 30, 41, 73]\n",
      "repression: [13, 47, 50, 108, 136]\n",
      "undoing: [48, 67, 70, 81, 83]\n",
      "intellectualization: [4, 26, 53, 57, 60]\n",
      "isolation_of_affects: [28, 31, 39, 107, 140]\n",
      "affiliation: [22, 25, 44, 66, 93]\n",
      "altruism: [11, 15, 79, 104, 132]\n",
      "anticipation: [43, 46, 62, 65, 78]\n",
      "humor: [18, 37, 40, 51, 119]\n",
      "self_assertion: [23, 90, 105, 109, 146]\n",
      "self_observation: [9, 32, 58, 77, 91]\n",
      "sublimation: [14, 36, 63, 97, 100]\n",
      "suppression: [49, 117, 128, 131, 150]\n"
     ]
    }
   ],
   "source": [
    "# Drill into one section, e.g. defense_mechanisms\n",
    "for name, items in data['defense_mechanisms'].items():\n",
    "    print(f\"{name}: {items}\")"
   ]
  },
  {
   "cell_type": "code",
   "execution_count": 30,
   "id": "9e9352ab-b854-4022-abea-6bbd33f9f87f",
   "metadata": {
    "scrolled": true
   },
   "outputs": [
    {
     "name": "stdout",
     "output_type": "stream",
     "text": [
      "action: ['acting_out', 'help_rejecting_complaining', 'passive_aggression']\n",
      "major_image_distorting: ['splitting_of_objects_image', 'splitting_of_self_image', 'projective_identification']\n",
      "disavowal: ['autistic_fantasy', 'projection', 'rationalization', 'denial']\n",
      "minor_image_distorting: ['omnipotence', 'idealization_self_image', 'idealization_others_image', 'devaluation_self_image', 'devaluation_others_image']\n",
      "neurotic: ['displacement', 'reaction_formation', 'dissociation', 'repression']\n",
      "hysterical: ['dissociation', 'repression']\n",
      "other_neurotic: ['displacement', 'reaction_formation']\n",
      "obsessional: ['undoing', 'intellectualization', 'isolation_of_affects']\n",
      "high_adaptive: ['affiliation', 'altruism', 'anticipation', 'humor', 'self_assertion', 'self_observation', 'sublimation', 'suppression']\n"
     ]
    }
   ],
   "source": [
    "for name, items in data['defense_levels'].items():\n",
    "    print(f\"{name}: {items}\")"
   ]
  },
  {
   "cell_type": "code",
   "execution_count": 31,
   "id": "3700478c-6398-4aba-b8ba-e1606098c755",
   "metadata": {
    "scrolled": true
   },
   "outputs": [
    {
     "name": "stdout",
     "output_type": "stream",
     "text": [
      "immature: ['acting_out', 'help_rejecting_complaining', 'passive_aggression', 'splitting_of_objects_image', 'splitting_of_self_image', 'projective_identification', 'autistic_fantasy', 'projection', 'rationalization', 'denial', 'omnipotence', 'idealization_self_image', 'idealization_others_image', 'devaluation_self_image', 'devaluation_others_image']\n",
      "depressive: ['acting_out', 'help_rejecting_complaining', 'passive_aggression', 'splitting_of_objects_image', 'splitting_of_self_image', 'projective_identification', 'projection', 'devaluation_self_image', 'devaluation_others_image']\n",
      "other_immature: ['autistic_fantasy', 'rationalization', 'denial', 'omnipotence', 'idealization_self_image', 'idealization_others_image']\n",
      "neurotic: ['displacement', 'reaction_formation', 'dissociation', 'repression', 'undoing', 'intellectualization', 'isolation_of_affects']\n",
      "mature: ['affiliation', 'altruism', 'anticipation', 'humor', 'self_assertion', 'self_observation', 'sublimation', 'suppression']\n"
     ]
    }
   ],
   "source": [
    "for name, items in data['defense_categories'].items():\n",
    "    print(f\"{name}: {items}\")"
   ]
  },
  {
   "cell_type": "code",
   "execution_count": 27,
   "id": "ae2bb917-c501-4381-beb2-fe8940e81d59",
   "metadata": {
    "scrolled": true
   },
   "outputs": [
    {
     "name": "stdout",
     "output_type": "stream",
     "text": [
      "individual_defense_scores: [(Sum of items for each defense) - 5] * 100/234\n",
      "defense_level_scores: {'L1_action': 'Sum of D1, D2, and D3', 'L2_major_image_distorting': 'Sum of D4, D5, and D6', 'L3_disavowal': 'Sum of D7, D8, D9, and D10', 'L4_minor_image_distorting': 'Sum of D11, D12, D13, D14, and D15', 'L5_neurotic': 'Sum of D16, D17, D18, and D19', 'L5a_hysterical': 'Sum of D18 and D19', 'L5b_other_neurotic': 'Sum of D16 and D17', 'L6_obsessional': 'Sum of D20, D21, and D22', 'L7_high_adaptive': 'Sum of D23, D24, D25, D26, D27, D28, D29, and D30'}\n",
      "defense_category_scores: {'C1_immature': 'Sum of D1, D2, D3, D4, D5, D6, D7, D8, D9, D10, D11, D12, D13, D14, and D15', 'C1a_depressive': 'Sum of D1, D2, D3, D4, D5, D6, D8, D14, and D15', 'C1b_other_immature': 'Sum of D7, D9, D10, D11, D12, and D13', 'C2_neurotic': 'Sum of D16, D17, D18, D19, D20, D21, and D22', 'C3_mature': 'Sum of D23, D24, D25, D26, D27, D28, D29, and D30'}\n",
      "overall_defensive_functioning: (L1/100)*1 + (L2/100)*2 + (L3/100)*3 + (L4/100)*4 + (L5/100)*5 + (L6/100)*6 + (L7/100)*7\n"
     ]
    }
   ],
   "source": [
    "for name, items in data['scoring_formulas'].items():\n",
    "    print(f\"{name}: {items}\")"
   ]
  },
  {
   "cell_type": "code",
   "execution_count": 34,
   "id": "1392a390-a50c-492f-ba3f-0307d0676c09",
   "metadata": {
    "scrolled": true
   },
   "outputs": [
    {
     "data": {
      "text/plain": [
       "'[(Sum of items for each defense) - 5] * 100/234'"
      ]
     },
     "execution_count": 34,
     "metadata": {},
     "output_type": "execute_result"
    }
   ],
   "source": [
    "data['scoring_formulas']['individual_defense_scores']"
   ]
  },
  {
   "cell_type": "code",
   "execution_count": 35,
   "id": "94f77fc7-14c1-47de-9297-523a738749eb",
   "metadata": {
    "scrolled": true
   },
   "outputs": [
    {
     "data": {
      "text/plain": [
       "{'L1_action': 'Sum of D1, D2, and D3',\n",
       " 'L2_major_image_distorting': 'Sum of D4, D5, and D6',\n",
       " 'L3_disavowal': 'Sum of D7, D8, D9, and D10',\n",
       " 'L4_minor_image_distorting': 'Sum of D11, D12, D13, D14, and D15',\n",
       " 'L5_neurotic': 'Sum of D16, D17, D18, and D19',\n",
       " 'L5a_hysterical': 'Sum of D18 and D19',\n",
       " 'L5b_other_neurotic': 'Sum of D16 and D17',\n",
       " 'L6_obsessional': 'Sum of D20, D21, and D22',\n",
       " 'L7_high_adaptive': 'Sum of D23, D24, D25, D26, D27, D28, D29, and D30'}"
      ]
     },
     "execution_count": 35,
     "metadata": {},
     "output_type": "execute_result"
    }
   ],
   "source": [
    "data['scoring_formulas']['defense_level_scores']"
   ]
  },
  {
   "cell_type": "code",
   "execution_count": 36,
   "id": "e9f2854b-6f8d-497c-93b6-a6ce3f0e6d51",
   "metadata": {
    "scrolled": true
   },
   "outputs": [
    {
     "data": {
      "text/plain": [
       "{'C1_immature': 'Sum of D1, D2, D3, D4, D5, D6, D7, D8, D9, D10, D11, D12, D13, D14, and D15',\n",
       " 'C1a_depressive': 'Sum of D1, D2, D3, D4, D5, D6, D8, D14, and D15',\n",
       " 'C1b_other_immature': 'Sum of D7, D9, D10, D11, D12, and D13',\n",
       " 'C2_neurotic': 'Sum of D16, D17, D18, D19, D20, D21, and D22',\n",
       " 'C3_mature': 'Sum of D23, D24, D25, D26, D27, D28, D29, and D30'}"
      ]
     },
     "execution_count": 36,
     "metadata": {},
     "output_type": "execute_result"
    }
   ],
   "source": [
    "data['scoring_formulas']['defense_category_scores']"
   ]
  },
  {
   "cell_type": "code",
   "execution_count": 38,
   "id": "94552178-0c7f-4204-a8be-29f07607967d",
   "metadata": {
    "scrolled": true
   },
   "outputs": [
    {
     "data": {
      "text/plain": [
       "'(L1/100)*1 + (L2/100)*2 + (L3/100)*3 + (L4/100)*4 + (L5/100)*5 + (L6/100)*6 + (L7/100)*7'"
      ]
     },
     "execution_count": 38,
     "metadata": {},
     "output_type": "execute_result"
    }
   ],
   "source": [
    "data['scoring_formulas']['overall_defensive_functioning']"
   ]
  }
 ],
 "metadata": {
  "kernelspec": {
   "display_name": "Python 3 (ipykernel)",
   "language": "python",
   "name": "python3"
  },
  "language_info": {
   "codemirror_mode": {
    "name": "ipython",
    "version": 3
   },
   "file_extension": ".py",
   "mimetype": "text/x-python",
   "name": "python",
   "nbconvert_exporter": "python",
   "pygments_lexer": "ipython3",
   "version": "3.12.7"
  }
 },
 "nbformat": 4,
 "nbformat_minor": 5
}
